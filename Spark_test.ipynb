{
 "cells": [
  {
   "cell_type": "code",
   "execution_count": 100,
   "metadata": {
    "ExecuteTime": {
     "end_time": "2018-08-20T09:32:42.767955Z",
     "start_time": "2018-08-20T09:32:42.739977Z"
    },
    "hideCode": false,
    "hidePrompt": false
   },
   "outputs": [],
   "source": [
    "%matplotlib inline\n",
    "import matplotlib.pyplot as plt\n",
    "from pyspark.sql import SparkSession\n",
    "from pyspark.sql import SQLContext\n",
    "from pyspark.sql.types import *\n",
    "from pyspark.sql.functions import *\n",
    "import pandas as pd\n",
    "sc = spark.sparkContext\n",
    "sqlContext = SQLContext(sc)"
   ]
  },
  {
   "cell_type": "code",
   "execution_count": 5,
   "metadata": {
    "ExecuteTime": {
     "end_time": "2018-08-19T00:26:32.300300Z",
     "start_time": "2018-08-19T00:26:31.705922Z"
    },
    "hideCode": false,
    "hidePrompt": false
   },
   "outputs": [],
   "source": [
    "spark= SparkSession.builder.appName('Basics').getOrCreate()"
   ]
  },
  {
   "cell_type": "code",
   "execution_count": 27,
   "metadata": {
    "ExecuteTime": {
     "end_time": "2018-08-20T08:19:43.129466Z",
     "start_time": "2018-08-20T08:19:41.849307Z"
    },
    "hideCode": false,
    "hidePrompt": false
   },
   "outputs": [
    {
     "name": "stdout",
     "output_type": "stream",
     "text": [
      "+--------------------+--------------------+------------+--------------------+--------------+-----+-----------+-------------+--------------+-----+------------+-------+--------------------+\n",
      "|         business_id|                name|neighborhood|             address|          city|state|postal_code|     latitude|     longitude|stars|review_count|is_open|          categories|\n",
      "+--------------------+--------------------+------------+--------------------+--------------+-----+-----------+-------------+--------------+-----+------------+-------+--------------------+\n",
      "|FYWN1wneV18bWNgQj...|  \"Dental by Design\"|        null|\"4855 E Warner Rd...|     Ahwatukee|   AZ|      85044|   33.3306902|  -111.9785992|  4.0|          22|      1|Dentists;General ...|\n",
      "|He-G7vWjzVUysIKrf...|\"Stephen Szabo Sa...|        null|\"3101 Washington Rd\"|      McMurray|   PA|      15317|   40.2916853|   -80.1048999|  3.0|          11|      1|Hair Stylists;Hai...|\n",
      "|KQPW8lFf1y5BT2Mxi...|\"Western Motor Ve...|        null|\"6025 N 27th Ave,...|       Phoenix|   AZ|      85017|   33.5249025|  -112.1153098|  1.5|          18|      1|Departments of Mo...|\n",
      "|8DShNS-LuFqpEWIp0...|  \"Sports Authority\"|        null|\"5000 Arizona Mil...|         Tempe|   AZ|      85282|   33.3831468|  -111.9647254|  3.0|           9|      0|Sporting Goods;Sh...|\n",
      "|PfOCPjBrlQAnz__NX...|\"Brick House Tave...|        null|      \"581 Howe Ave\"|Cuyahoga Falls|   OH|      44221|   41.1195346|   -81.4756898|  3.5|         116|      1|American (New);Ni...|\n",
      "|o9eMRCWt5PkpLDE0g...|           \"Messina\"|        null|    \"Richterstr. 11\"|     Stuttgart|   BW|      70567|      48.7272|       9.14795|  4.0|           5|      1| Italian;Restaurants|\n",
      "|kCoE3jvEtg6UVz5SO...|        \"BDJ Realty\"|   Summerlin|\"2620 Regatta Dr,...|     Las Vegas|   NV|      89128|     36.20743|    -115.26846|  4.0|           5|      1|Real Estate Servi...|\n",
      "|OD2hnuuTJI9uotcKy...|       \"Soccer Zone\"|        null|\"7240 W Lake Mead...|     Las Vegas|   NV|      89128|   36.1974844|  -115.2496601|  1.5|           9|      1|Shopping;Sporting...|\n",
      "|EsMcGiZaQuG1OOvL9...|  \"Any Given Sundae\"|        null|\"2612 Brandt Scho...|       Wexford|   PA|      15090|40.6151022445|-80.0913487465|  5.0|          15|      1|Coffee & Tea;Ice ...|\n",
      "|TGWhGNusxyMaA4kQV...|\"Detailing Gone M...|        null|                  \"\"|     Henderson|   NV|      89014|36.0558252127| -115.04635039|  5.0|           7|      1|Automotive;Auto D...|\n",
      "+--------------------+--------------------+------------+--------------------+--------------+-----+-----------+-------------+--------------+-----+------------+-------+--------------------+\n",
      "only showing top 10 rows\n",
      "\n"
     ]
    }
   ],
   "source": [
    "#Fix the CSV file with comma within fields\n",
    "#Adding \"option('maxColumns','13').option('escape','\"')\"\n",
    "\n",
    "df = sqlContext.read.format('csv').option('header','true').option('inferSchema','true').option('escape','\"').load('dataset/yelp_business.csv')\n",
    "df.show(10)"
   ]
  },
  {
   "cell_type": "code",
   "execution_count": 79,
   "metadata": {
    "ExecuteTime": {
     "end_time": "2018-08-20T08:59:42.085667Z",
     "start_time": "2018-08-20T08:59:42.065672Z"
    }
   },
   "outputs": [
    {
     "ename": "NameError",
     "evalue": "name 'count' is not defined",
     "output_type": "error",
     "traceback": [
      "\u001b[1;31m---------------------------------------------------------------------------\u001b[0m",
      "\u001b[1;31mNameError\u001b[0m                                 Traceback (most recent call last)",
      "\u001b[1;32m<ipython-input-79-26780ddf2751>\u001b[0m in \u001b[0;36m<module>\u001b[1;34m()\u001b[0m\n\u001b[1;32m----> 1\u001b[1;33m \u001b[0mcount\u001b[0m\u001b[1;33m\u001b[0m\u001b[0m\n\u001b[0m",
      "\u001b[1;31mNameError\u001b[0m: name 'count' is not defined"
     ]
    }
   ],
   "source": [
    "count"
   ]
  },
  {
   "cell_type": "code",
   "execution_count": 84,
   "metadata": {
    "ExecuteTime": {
     "end_time": "2018-08-20T09:02:41.452924Z",
     "start_time": "2018-08-20T09:02:40.525581Z"
    },
    "hideCode": false,
    "hidePrompt": false
   },
   "outputs": [
    {
     "name": "stdout",
     "output_type": "stream",
     "text": [
      "+-----+-----+\n",
      "|state|count|\n",
      "+-----+-----+\n",
      "|   AZ|52214|\n",
      "|   NV|33086|\n",
      "|   ON|30208|\n",
      "|   NC|12956|\n",
      "|   OH|12609|\n",
      "|   PA|10109|\n",
      "|   QC| 8169|\n",
      "|   WI| 4754|\n",
      "|  EDH| 3795|\n",
      "|   BW| 3118|\n",
      "+-----+-----+\n",
      "only showing top 10 rows\n",
      "\n"
     ]
    }
   ],
   "source": [
    "df.groupby('state').count().sort('count',ascending=False).show(10)\n",
    "\n"
   ]
  },
  {
   "cell_type": "markdown",
   "metadata": {},
   "source": [
    "Select \"Las Vegas, NV\" as the city for analyzing"
   ]
  },
  {
   "cell_type": "code",
   "execution_count": 30,
   "metadata": {
    "ExecuteTime": {
     "end_time": "2018-08-20T08:22:54.711538Z",
     "start_time": "2018-08-20T08:22:54.695525Z"
    },
    "hideCode": false,
    "hidePrompt": false
   },
   "outputs": [],
   "source": [
    "df_lv = df.filter('state =\"NV\"').filter('city=\"Las Vegas\"')"
   ]
  },
  {
   "cell_type": "markdown",
   "metadata": {},
   "source": [
    "Filter out business categories that are not restaurant"
   ]
  },
  {
   "cell_type": "code",
   "execution_count": 41,
   "metadata": {
    "ExecuteTime": {
     "end_time": "2018-08-20T08:27:24.674058Z",
     "start_time": "2018-08-20T08:27:24.312845Z"
    },
    "scrolled": true
   },
   "outputs": [
    {
     "name": "stdout",
     "output_type": "stream",
     "text": [
      "+--------------------+--------------------+-------------+--------------------+---------+-----+-----------+-------------+--------------+-----+------------+-------+--------------------+\n",
      "|         business_id|                name| neighborhood|             address|     city|state|postal_code|     latitude|     longitude|stars|review_count|is_open|          categories|\n",
      "+--------------------+--------------------+-------------+--------------------+---------+-----+-----------+-------------+--------------+-----+------------+-------+--------------------+\n",
      "|Pd52CjgyEU3Rb8co6...|\"Flight Deck Bar ...|    Southeast|\"6730 S Las Vegas...|Las Vegas|   NV|      89119|   36.0669136|  -115.1708484|  4.0|          13|      1|Nightlife;Bars;Ba...|\n",
      "|4srfPk1s8nlm1Yusy...|            \"Subway\"|    Southeast|\"6889 S Eastern A...|Las Vegas|   NV|      89119|   36.0646523|  -115.1189541|  2.5|           6|      1|Fast Food;Restaur...|\n",
      "|n7V4cD-KqqE3OXk0i...|         \"GameWorks\"|    Southeast|\"6587 Las Vegas B...|Las Vegas|   NV|      89119|36.0682585154|  -115.1788768|  3.0|         349|      1|Arcades;Arts & En...|\n",
      "|F0fEKpTk7gAmuSFI0...|    \"Cafe Mastrioni\"|Spring Valley|\"4250 S Rainbow B...|Las Vegas|   NV|      89103|   36.1110572|  -115.2416881|  1.5|           3|      0| Italian;Restaurants|\n",
      "|Wpt0sFHcPtV5MO9He...|        \"McDonald's\"|     Eastside|\"3020 E Desert In...|Las Vegas|   NV|      89121|   36.1300128|    -115.10931|  2.0|          20|      1|Restaurants;Fast ...|\n",
      "|W1Yr6c2XDx_RBjb6W...|\"Divine Cafe at t...|     Westside|\"333 S Valley Vie...|Las Vegas|   NV|      89152|36.1707064994|-115.190288481|  4.0|         140|      1|Restaurants;Cafes...|\n",
      "|vzx1WdVivFsaN4QYr...|            \"Subway\"|         null|  \"5111 Boulder Hwy\"|Las Vegas|   NV|      89122|   36.1128952|  -115.0623534|  3.0|           3|      1|Sandwiches;Restau...|\n",
      "|Uy3_5nLo3sYkAuSX6...|\"Geebee's Bar & G...|    Southeast|\"8560 Las Vegas B...|Las Vegas|   NV|      89123|   36.0342435|  -115.1714093|  4.5|          33|      0|Restaurants;Ameri...|\n",
      "|dPxZI9lrKTl5dvFfn...|  \"Trattoria Italia\"|       Anthem|\"9905 S Eastern A...|Las Vegas|   NV|      89183|   36.0100856|  -115.1186563|  4.5|         210|      1|Seafood;Italian;P...|\n",
      "|WfB_SsYeKy83QQsqA...|\"Cancun Bar & Grill\"|    Southeast|\"5006 S Maryland ...|Las Vegas|   NV|      89119|   36.0986321|  -115.1360793|  4.5|           5|      1|Karaoke;Bars;Mexi...|\n",
      "|u29lf2yPd-qK5ThAS...|           \"Kinthai\"|     Westside| \"4105 W Sahara Ave\"|Las Vegas|   NV|      89102|36.1440231017|-115.195895992|  4.5|          61|      0|    Restaurants;Thai|\n",
      "|KYEZATGRY5aD69ZR6...|\"North Forty Salo...|   Centennial|\"5990 Centennial ...|Las Vegas|   NV|      89149|36.2718383376|-115.263279393|  3.5|          31|      0|Dance Clubs;Night...|\n",
      "|W8GVfGILy7an385lZ...|       \"Burger King\"|         null|\"1736 Las Vegas B...|Las Vegas|   NV|      89104|    36.150372|   -115.153558|  2.0|          18|      1| Burgers;Restaurants|\n",
      "|wRmPV-RvcqcjeyUeO...|\"The Bass Cafe Gr...|     Eastside|     \"900 Karen Ave\"|Las Vegas|   NV|      89109|   36.1409252|  -115.1428874|  2.5|           3|      1|Restaurants;Ameri...|\n",
      "|EgGdnaotJpPvxCFyZ...|         \"Pizza Hut\"|    Northwest|\"4945 W. Craig Road\"|Las Vegas|   NV|      89130|    36.238059|   -115.210341|  2.0|          13|      1|   Restaurants;Pizza|\n",
      "|AfL8Ds7ex73tfVbq3...|        \"Baja Fresh\"|     Westside|\"8780 W Charlesto...|Las Vegas|   NV|      89117|   36.1594825|  -115.2874508|  5.0|           6|      1| Restaurants;Mexican|\n",
      "|WMj5Uj04pAqFxLMnJ...|     \"Panda Express\"|    The Strip|\"3355 Las Vegas B...|Las Vegas|   NV|      89109|   36.1220839|  -115.1680316|  2.5|          61|      1|Restaurants;Fast ...|\n",
      "|RGmBfqdFb0giLPG-S...|\"Christy Candy Shop\"|     Eastside|\"3542 S Maryland ...|Las Vegas|   NV|      89169|    36.124902|    -115.13471|  3.0|           4|      1|Food;Restaurants;...|\n",
      "|NoSj3hV8Rlz_gUsOL...|        \"Jack's Pub\"|         null| \"2416 W Sahara Ave\"|Las Vegas|   NV|      89102|   36.1444404|  -115.1744386|  2.5|          21|      1|Nightlife;Pubs;Re...|\n",
      "|SlelFNxQz5PJbl6kk...|            \"Makino\"|    Southeast|\"9570 S Eastern Ave\"|Las Vegas|   NV|      89136|   36.0151363|  -115.1184733|  3.0|           7|      0|Restaurants;Japanese|\n",
      "+--------------------+--------------------+-------------+--------------------+---------+-----+-----------+-------------+--------------+-----+------------+-------+--------------------+\n",
      "only showing top 20 rows\n",
      "\n"
     ]
    }
   ],
   "source": [
    "df_restaurant = df_lv.filter(df_lv.categories.rlike(r'[Rr]estaurants'))\n",
    "df_restaurant.show(20)"
   ]
  },
  {
   "cell_type": "markdown",
   "metadata": {
    "ExecuteTime": {
     "end_time": "2018-08-20T08:23:33.815684Z",
     "start_time": "2018-08-20T08:23:33.399669Z"
    }
   },
   "source": [
    "Distribution of restaurant rating in Las Vagas"
   ]
  },
  {
   "cell_type": "code",
   "execution_count": 48,
   "metadata": {
    "ExecuteTime": {
     "end_time": "2018-08-20T08:28:51.379329Z",
     "start_time": "2018-08-20T08:28:50.675514Z"
    },
    "hideCode": false,
    "hidePrompt": false
   },
   "outputs": [
    {
     "name": "stdout",
     "output_type": "stream",
     "text": [
      "+-----+-----+\n",
      "|stars|count|\n",
      "+-----+-----+\n",
      "|  5.0|  178|\n",
      "|  4.5|  718|\n",
      "|  4.0| 1474|\n",
      "|  3.5| 1411|\n",
      "|  3.0|  985|\n",
      "|  2.5|  621|\n",
      "|  2.0|  356|\n",
      "|  1.5|  136|\n",
      "|  1.0|   20|\n",
      "+-----+-----+\n",
      "\n"
     ]
    }
   ],
   "source": [
    "df_restaurant.groupby('stars').count().sort('stars', ascending=False).show()"
   ]
  },
  {
   "cell_type": "markdown",
   "metadata": {},
   "source": [
    "Distribution of restaurant rating less than 3.5 stars in Las Vagas"
   ]
  },
  {
   "cell_type": "code",
   "execution_count": 50,
   "metadata": {
    "ExecuteTime": {
     "end_time": "2018-08-20T08:30:16.112130Z",
     "start_time": "2018-08-20T08:30:15.403370Z"
    },
    "hideCode": false,
    "hidePrompt": false
   },
   "outputs": [
    {
     "name": "stdout",
     "output_type": "stream",
     "text": [
      "+-----+-----+\n",
      "|stars|count|\n",
      "+-----+-----+\n",
      "|  3.0|  985|\n",
      "|  2.5|  621|\n",
      "|  2.0|  356|\n",
      "|  1.5|  136|\n",
      "|  1.0|   20|\n",
      "+-----+-----+\n",
      "\n"
     ]
    }
   ],
   "source": [
    "df_restaurant.filter(\"stars < 3.5\").groupby('stars').count().sort('stars', ascending=False).show()"
   ]
  },
  {
   "cell_type": "markdown",
   "metadata": {
    "hideCode": false,
    "hidePrompt": false
   },
   "source": [
    "Filter out data which higher than 3 stars"
   ]
  },
  {
   "cell_type": "code",
   "execution_count": 87,
   "metadata": {
    "ExecuteTime": {
     "end_time": "2018-08-20T09:05:12.361895Z",
     "start_time": "2018-08-20T09:05:12.341899Z"
    }
   },
   "outputs": [],
   "source": [
    "df_restaurant = df_restaurant.filter(\"stars < 3.5\")"
   ]
  },
  {
   "cell_type": "markdown",
   "metadata": {},
   "source": [
    "Join the business data with the review data"
   ]
  },
  {
   "cell_type": "code",
   "execution_count": 112,
   "metadata": {
    "ExecuteTime": {
     "end_time": "2018-08-20T09:43:40.701010Z",
     "start_time": "2018-08-20T09:42:56.077201Z"
    }
   },
   "outputs": [],
   "source": [
    "df_reviews = sqlContext.read.format('csv').option('header','true').option('inferSchema','true').option('escape','\"').load('dataset/yelp_review.csv')\n",
    "#rename the star to review_star to avoid duplicate column name when joining\n",
    "df_reviews = df_reviews.select( '*', col('stars').alias('review_stars')).drop('stars')"
   ]
  },
  {
   "cell_type": "code",
   "execution_count": 113,
   "metadata": {
    "ExecuteTime": {
     "end_time": "2018-08-20T09:45:10.884023Z",
     "start_time": "2018-08-20T09:43:40.701010Z"
    }
   },
   "outputs": [
    {
     "name": "stdout",
     "output_type": "stream",
     "text": [
      "+--------------------+--------------------+--------------------+----------+--------------------+------+-----+----+------------+----------------+------------+--------------------+---------+-----+-----------+---------+-----------+-----+------------+-------+-------------------+\n",
      "|         business_id|           review_id|             user_id|      date|                text|useful|funny|cool|review_stars|            name|neighborhood|             address|     city|state|postal_code| latitude|  longitude|stars|review_count|is_open|         categories|\n",
      "+--------------------+--------------------+--------------------+----------+--------------------+------+-----+----+------------+----------------+------------+--------------------+---------+-----+-----------+---------+-----------+-----+------------+-------+-------------------+\n",
      "|-cxD1NimFldATDUsN...|LWrocEdhy-S0uAkxs...|5aP7I_IRRct_7Jdp-...|2014-03-02|Reading all these...|     1|    0|   0|           4|\"Coasta Cantina\"|        null|\"4500 W Tropicana...|Las Vegas|   NV|      89103|36.102737|-115.202016|  2.0|          23|      0|Restaurants;Mexican|\n",
      "|-cxD1NimFldATDUsN...|eZd5Z9HOnR1TeblX8...|DeVGAiOf2mHVUDfxv...|2012-08-27|Located in the Or...|     2|    1|   2|           3|\"Coasta Cantina\"|        null|\"4500 W Tropicana...|Las Vegas|   NV|      89103|36.102737|-115.202016|  2.0|          23|      0|Restaurants;Mexican|\n",
      "|-cxD1NimFldATDUsN...|UNGoIQ33VfTJEjgIb...|6BjjbdDxyYPGg4uyA...|2011-08-12|I love this place...|     2|    0|   0|           4|\"Coasta Cantina\"|        null|\"4500 W Tropicana...|Las Vegas|   NV|      89103|36.102737|-115.202016|  2.0|          23|      0|Restaurants;Mexican|\n",
      "|-cxD1NimFldATDUsN...|oJfNsO41bNSQOeHua...|mRaT_pOsA2pK9nUjB...|2013-08-14|The big special i...|  null| null|null|           1|\"Coasta Cantina\"|        null|\"4500 W Tropicana...|Las Vegas|   NV|      89103|36.102737|-115.202016|  2.0|          23|      0|Restaurants;Mexican|\n",
      "|-cxD1NimFldATDUsN...|x85piyjtIBqLHmqVT...|lVkyGwk6ylruZKgIW...|2011-07-06|The food was only...|     1|    0|   1|           2|\"Coasta Cantina\"|        null|\"4500 W Tropicana...|Las Vegas|   NV|      89103|36.102737|-115.202016|  2.0|          23|      0|Restaurants;Mexican|\n",
      "|-cxD1NimFldATDUsN...|O7MRxdVakZNVXRjMa...|-tj1DN67gXaiCyV1h...|2011-06-06|Try the ceviche a...|     0|    0|   0|           4|\"Coasta Cantina\"|        null|\"4500 W Tropicana...|Las Vegas|   NV|      89103|36.102737|-115.202016|  2.0|          23|      0|Restaurants;Mexican|\n",
      "|-cxD1NimFldATDUsN...|up1oaxdGJm2Rz--fo...|QE-z6AcyboxQkhS1u...|2012-02-13|The fajita specia...|     1|    0|   0|           3|\"Coasta Cantina\"|        null|\"4500 W Tropicana...|Las Vegas|   NV|      89103|36.102737|-115.202016|  2.0|          23|      0|Restaurants;Mexican|\n",
      "|-cxD1NimFldATDUsN...|fik9UVxNtzJjwSeOJ...|hcLuiMPmcIDYSmTKI...|2015-06-20|Customer service ...|  null| null|null|           2|\"Coasta Cantina\"|        null|\"4500 W Tropicana...|Las Vegas|   NV|      89103|36.102737|-115.202016|  2.0|          23|      0|Restaurants;Mexican|\n",
      "|-cxD1NimFldATDUsN...|jCoI-15kIMH1ICqW3...|sJX0jxryP6ih_iiom...|2015-02-10|My wife and mysel...|     0|    0|   0|           4|\"Coasta Cantina\"|        null|\"4500 W Tropicana...|Las Vegas|   NV|      89103|36.102737|-115.202016|  2.0|          23|      0|Restaurants;Mexican|\n",
      "|-cxD1NimFldATDUsN...|IeEOTvwI0-1hOUoJ2...|ufnodMCsdIEb_6mac...|2015-04-25|Im giving this pl...|     1|    0|   0|           1|\"Coasta Cantina\"|        null|\"4500 W Tropicana...|Las Vegas|   NV|      89103|36.102737|-115.202016|  2.0|          23|      0|Restaurants;Mexican|\n",
      "+--------------------+--------------------+--------------------+----------+--------------------+------+-----+----+------------+----------------+------------+--------------------+---------+-----+-----------+---------+-----------+-----+------------+-------+-------------------+\n",
      "only showing top 10 rows\n",
      "\n"
     ]
    }
   ],
   "source": [
    "df_join = df_reviews.join(df_restaurant, \"business_id\")\n",
    "df_join.show(10)"
   ]
  },
  {
   "cell_type": "markdown",
   "metadata": {},
   "source": [
    "Only keep business_id, stars, text, stars, city columns"
   ]
  },
  {
   "cell_type": "code",
   "execution_count": 116,
   "metadata": {
    "ExecuteTime": {
     "end_time": "2018-08-20T09:48:24.817620Z",
     "start_time": "2018-08-20T09:47:11.467763Z"
    }
   },
   "outputs": [
    {
     "name": "stdout",
     "output_type": "stream",
     "text": [
      "+--------------------+---------+----------------+-----+------------+--------------------+\n",
      "|         business_id|     city|            name|stars|review_stars|                text|\n",
      "+--------------------+---------+----------------+-----+------------+--------------------+\n",
      "|-cxD1NimFldATDUsN...|Las Vegas|\"Coasta Cantina\"|  2.0|           4|Reading all these...|\n",
      "|-cxD1NimFldATDUsN...|Las Vegas|\"Coasta Cantina\"|  2.0|           3|Located in the Or...|\n",
      "|-cxD1NimFldATDUsN...|Las Vegas|\"Coasta Cantina\"|  2.0|           4|I love this place...|\n",
      "|-cxD1NimFldATDUsN...|Las Vegas|\"Coasta Cantina\"|  2.0|           1|The big special i...|\n",
      "|-cxD1NimFldATDUsN...|Las Vegas|\"Coasta Cantina\"|  2.0|           2|The food was only...|\n",
      "|-cxD1NimFldATDUsN...|Las Vegas|\"Coasta Cantina\"|  2.0|           4|Try the ceviche a...|\n",
      "|-cxD1NimFldATDUsN...|Las Vegas|\"Coasta Cantina\"|  2.0|           3|The fajita specia...|\n",
      "|-cxD1NimFldATDUsN...|Las Vegas|\"Coasta Cantina\"|  2.0|           2|Customer service ...|\n",
      "|-cxD1NimFldATDUsN...|Las Vegas|\"Coasta Cantina\"|  2.0|           4|My wife and mysel...|\n",
      "|-cxD1NimFldATDUsN...|Las Vegas|\"Coasta Cantina\"|  2.0|           1|Im giving this pl...|\n",
      "+--------------------+---------+----------------+-----+------------+--------------------+\n",
      "only showing top 10 rows\n",
      "\n"
     ]
    }
   ],
   "source": [
    "df_new = df_join.select('business_id','city', 'name','stars','review_stars', 'text')\n",
    "df_new.show(10)"
   ]
  },
  {
   "cell_type": "code",
   "execution_count": 117,
   "metadata": {
    "ExecuteTime": {
     "end_time": "2018-08-20T09:49:36.131126Z",
     "start_time": "2018-08-20T09:48:54.653062Z"
    }
   },
   "outputs": [
    {
     "data": {
      "text/plain": [
       "159580"
      ]
     },
     "execution_count": 117,
     "metadata": {},
     "output_type": "execute_result"
    }
   ],
   "source": [
    "df_new.count()"
   ]
  }
 ],
 "metadata": {
  "hide_code_all_hidden": false,
  "kernelspec": {
   "display_name": "Python 3",
   "language": "python",
   "name": "python3"
  },
  "language_info": {
   "codemirror_mode": {
    "name": "ipython",
    "version": 3
   },
   "file_extension": ".py",
   "mimetype": "text/x-python",
   "name": "python",
   "nbconvert_exporter": "python",
   "pygments_lexer": "ipython3",
   "version": "3.6.3"
  }
 },
 "nbformat": 4,
 "nbformat_minor": 2
}
