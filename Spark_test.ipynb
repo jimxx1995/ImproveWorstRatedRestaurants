{
 "cells": [
  {
   "cell_type": "code",
   "execution_count": 95,
   "metadata": {
    "ExecuteTime": {
     "end_time": "2018-08-19T01:19:10.963095Z",
     "start_time": "2018-08-19T01:19:10.196375Z"
    }
   },
   "outputs": [],
   "source": [
    "from pyspark.sql import SparkSession\n",
    "from pyspark.sql.functions import desc\n",
    "from pyspark.sql import SQLContext\n",
    "from pyspark.sql.types import *\n",
    "import pandas as pd\n",
    "sqlContext = SQLContext(sc)"
   ]
  },
  {
   "cell_type": "code",
   "execution_count": 5,
   "metadata": {
    "ExecuteTime": {
     "end_time": "2018-08-19T00:26:32.300300Z",
     "start_time": "2018-08-19T00:26:31.705922Z"
    }
   },
   "outputs": [],
   "source": [
    "spark= SparkSession.builder.appName('Basics').getOrCreate()"
   ]
  },
  {
   "cell_type": "code",
   "execution_count": 102,
   "metadata": {
    "ExecuteTime": {
     "end_time": "2018-08-19T01:32:47.432312Z",
     "start_time": "2018-08-19T01:32:46.488532Z"
    }
   },
   "outputs": [],
   "source": [
    "#Fix the CSV file with comma within fields\n",
    "#Adding \"option('maxColumns','13').option('escape','\"')\"\n",
    "\n",
    "df = sqlContext.read.format('csv').option('header','true').option('inferSchema','true').option('escape','\"').load('dataset/yelp_business.csv')\n"
   ]
  },
  {
   "cell_type": "code",
   "execution_count": 151,
   "metadata": {
    "ExecuteTime": {
     "end_time": "2018-08-19T02:16:00.283590Z",
     "start_time": "2018-08-19T02:15:59.484272Z"
    }
   },
   "outputs": [
    {
     "name": "stdout",
     "output_type": "stream",
     "text": [
      "+-----+-----+\n",
      "|state|count|\n",
      "+-----+-----+\n",
      "|   AZ|52214|\n",
      "|   NV|33086|\n",
      "|   ON|30208|\n",
      "|   NC|12956|\n",
      "|   OH|12609|\n",
      "|   PA|10109|\n",
      "|   QC| 8169|\n",
      "|   WI| 4754|\n",
      "|  EDH| 3795|\n",
      "|   BW| 3118|\n",
      "+-----+-----+\n",
      "only showing top 10 rows\n",
      "\n"
     ]
    }
   ],
   "source": [
    "df.groupby('state').count().sort(desc('count')).show(n=10)"
   ]
  },
  {
   "cell_type": "code",
   "execution_count": 147,
   "metadata": {
    "ExecuteTime": {
     "end_time": "2018-08-19T02:13:13.926694Z",
     "start_time": "2018-08-19T02:13:13.629010Z"
    }
   },
   "outputs": [
    {
     "name": "stdout",
     "output_type": "stream",
     "text": [
      "+--------------------+--------------------+-------------+--------------------+---------+-----+-----------+-------------+--------------+-----+------------+-------+--------------------+\n",
      "|         business_id|                name| neighborhood|             address|     city|state|postal_code|     latitude|     longitude|stars|review_count|is_open|          categories|\n",
      "+--------------------+--------------------+-------------+--------------------+---------+-----+-----------+-------------+--------------+-----+------------+-------+--------------------+\n",
      "|kCoE3jvEtg6UVz5SO...|        \"BDJ Realty\"|    Summerlin|\"2620 Regatta Dr,...|Las Vegas|   NV|      89128|     36.20743|    -115.26846|  4.0|           5|      1|Real Estate Servi...|\n",
      "|OD2hnuuTJI9uotcKy...|       \"Soccer Zone\"|         null|\"7240 W Lake Mead...|Las Vegas|   NV|      89128|   36.1974844|  -115.2496601|  1.5|           9|      1|Shopping;Sporting...|\n",
      "|VBHEsoXQb2AQ76J9l...| \"Alfredo's Jewelry\"|    Southeast|\"5775 S Eastern, ...|Las Vegas|   NV|      89119|36.0850508374|-115.119420802|  4.5|          23|      1|Shopping;Jewelry;...|\n",
      "|1Jp_hmPNUZArNqzpb...|     \"Task Electric\"|Spring Valley|\"7260 Cimarron Rd...|Las Vegas|   NV|      89113|    36.056382|   -115.269332|  4.5|          20|      1|Home Services;Lig...|\n",
      "|DPQnTnNw2PJj7DdEN...|      \"Star Nursery\"|         null|  \"5340 Boulder Hwy\"|Las Vegas|   NV|      89122|    36.105196|  -115.0568796|  3.5|          25|      1|Nurseries & Garde...|\n",
      "|_F3AMoo_zdl-he384...|      \"Rock of Ages\"|         null|\"3700 W Flamingo Rd\"|Las Vegas|   NV|      89109|   36.1169648|   -115.185696|  4.0|         213|      1|Arts & Entertainm...|\n",
      "|Pd52CjgyEU3Rb8co6...|\"Flight Deck Bar ...|    Southeast|\"6730 S Las Vegas...|Las Vegas|   NV|      89119|   36.0669136|  -115.1708484|  4.0|          13|      1|Nightlife;Bars;Ba...|\n",
      "|4srfPk1s8nlm1Yusy...|            \"Subway\"|    Southeast|\"6889 S Eastern A...|Las Vegas|   NV|      89119|   36.0646523|  -115.1189541|  2.5|           6|      1|Fast Food;Restaur...|\n",
      "|n7V4cD-KqqE3OXk0i...|         \"GameWorks\"|    Southeast|\"6587 Las Vegas B...|Las Vegas|   NV|      89119|36.0682585154|  -115.1788768|  3.0|         349|      1|Arcades;Arts & En...|\n",
      "|Sx0C2RsDgrG3RxBBU...|\"Kool Radiator Se...|     Westside|    \"3228 Meade Ave\"|Las Vegas|   NV|      89102|   36.1366387|  -115.1845851|  3.5|           9|      1|Automotive;Auto R...|\n",
      "+--------------------+--------------------+-------------+--------------------+---------+-----+-----------+-------------+--------------+-----+------------+-------+--------------------+\n",
      "only showing top 10 rows\n",
      "\n"
     ]
    }
   ],
   "source": [
    "df.filter('state =\"NV\"').filter('city=\"Las Vegas\"').show(10)"
   ]
  },
  {
   "cell_type": "code",
   "execution_count": 148,
   "metadata": {
    "ExecuteTime": {
     "end_time": "2018-08-19T02:13:32.780422Z",
     "start_time": "2018-08-19T02:13:32.404860Z"
    }
   },
   "outputs": [
    {
     "data": {
      "text/plain": [
       "26764"
      ]
     },
     "execution_count": 148,
     "metadata": {},
     "output_type": "execute_result"
    }
   ],
   "source": [
    "df.filter('state =\"NV\"').filter('city=\"Las Vegas\"').count()"
   ]
  },
  {
   "cell_type": "code",
   "execution_count": 150,
   "metadata": {
    "ExecuteTime": {
     "end_time": "2018-08-19T02:14:04.254331Z",
     "start_time": "2018-08-19T02:14:03.460787Z"
    }
   },
   "outputs": [
    {
     "name": "stdout",
     "output_type": "stream",
     "text": [
      "+-----+-----+\n",
      "|stars|count|\n",
      "+-----+-----+\n",
      "|  2.5| 2282|\n",
      "|  1.0|  573|\n",
      "|  3.0| 3225|\n",
      "|  2.0| 1444|\n",
      "|  1.5|  649|\n",
      "+-----+-----+\n",
      "\n"
     ]
    }
   ],
   "source": [
    "df.filter('state =\"NV\"').filter('city=\"Las Vegas\"').select('name','stars').filter(\"stars < 3.5\").groupby('stars').count().show()"
   ]
  },
  {
   "cell_type": "code",
   "execution_count": 139,
   "metadata": {
    "ExecuteTime": {
     "end_time": "2018-08-19T02:08:14.669740Z",
     "start_time": "2018-08-19T02:08:13.991159Z"
    }
   },
   "outputs": [
    {
     "name": "stdout",
     "output_type": "stream",
     "text": [
      "+-----+-----+\n",
      "|stars|count|\n",
      "+-----+-----+\n",
      "|  2.5|16148|\n",
      "|  1.0| 3788|\n",
      "|  3.0|23142|\n",
      "|  2.0| 9320|\n",
      "|  1.5| 4303|\n",
      "+-----+-----+\n",
      "\n"
     ]
    }
   ],
   "source": [
    "df.select('name','stars').filter(\"stars < 3.5\").groupby('stars').count().show()"
   ]
  },
  {
   "cell_type": "code",
   "execution_count": null,
   "metadata": {},
   "outputs": [],
   "source": []
  }
 ],
 "metadata": {
  "kernelspec": {
   "display_name": "Python 3",
   "language": "python",
   "name": "python3"
  },
  "language_info": {
   "codemirror_mode": {
    "name": "ipython",
    "version": 3
   },
   "file_extension": ".py",
   "mimetype": "text/x-python",
   "name": "python",
   "nbconvert_exporter": "python",
   "pygments_lexer": "ipython3",
   "version": "3.6.3"
  }
 },
 "nbformat": 4,
 "nbformat_minor": 2
}
